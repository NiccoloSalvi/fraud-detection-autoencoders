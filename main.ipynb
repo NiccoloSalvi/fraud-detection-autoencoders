{
 "cells": [
  {
   "cell_type": "code",
   "id": "initial_id",
   "metadata": {
    "collapsed": true,
    "ExecuteTime": {
     "end_time": "2025-02-20T10:13:43.738543Z",
     "start_time": "2025-02-20T10:13:42.570676Z"
    }
   },
   "source": [
    "import numpy as np\n",
    "import pandas as pd\n",
    "from sklearn.preprocessing import RobustScaler\n",
    "import jax.numpy as jnp\n",
    "import jax\n",
    "import jax.nn as nn\n",
    "import jax.scipy.optimize\n",
    "import matplotlib.pyplot as plt\n",
    "data = pd.read_csv('creditcard.csv')"
   ],
   "outputs": [],
   "execution_count": 23
  },
  {
   "metadata": {
    "ExecuteTime": {
     "end_time": "2025-02-20T09:38:22.725572Z",
     "start_time": "2025-02-20T09:38:22.714664Z"
    }
   },
   "cell_type": "code",
   "source": "print(data.head())",
   "id": "7442d6d164f9e5ba",
   "outputs": [
    {
     "name": "stdout",
     "output_type": "stream",
     "text": [
      "   Time        V1        V2        V3        V4        V5        V6        V7  \\\n",
      "0   0.0 -1.359807 -0.072781  2.536347  1.378155 -0.338321  0.462388  0.239599   \n",
      "1   0.0  1.191857  0.266151  0.166480  0.448154  0.060018 -0.082361 -0.078803   \n",
      "2   1.0 -1.358354 -1.340163  1.773209  0.379780 -0.503198  1.800499  0.791461   \n",
      "3   1.0 -0.966272 -0.185226  1.792993 -0.863291 -0.010309  1.247203  0.237609   \n",
      "4   2.0 -1.158233  0.877737  1.548718  0.403034 -0.407193  0.095921  0.592941   \n",
      "\n",
      "         V8        V9  ...       V21       V22       V23       V24       V25  \\\n",
      "0  0.098698  0.363787  ... -0.018307  0.277838 -0.110474  0.066928  0.128539   \n",
      "1  0.085102 -0.255425  ... -0.225775 -0.638672  0.101288 -0.339846  0.167170   \n",
      "2  0.247676 -1.514654  ...  0.247998  0.771679  0.909412 -0.689281 -0.327642   \n",
      "3  0.377436 -1.387024  ... -0.108300  0.005274 -0.190321 -1.175575  0.647376   \n",
      "4 -0.270533  0.817739  ... -0.009431  0.798278 -0.137458  0.141267 -0.206010   \n",
      "\n",
      "        V26       V27       V28  Amount  Class  \n",
      "0 -0.189115  0.133558 -0.021053  149.62      0  \n",
      "1  0.125895 -0.008983  0.014724    2.69      0  \n",
      "2 -0.139097 -0.055353 -0.059752  378.66      0  \n",
      "3 -0.221929  0.062723  0.061458  123.50      0  \n",
      "4  0.502292  0.219422  0.215153   69.99      0  \n",
      "\n",
      "[5 rows x 31 columns]\n"
     ]
    }
   ],
   "execution_count": 2
  },
  {
   "metadata": {
    "ExecuteTime": {
     "end_time": "2025-02-20T09:38:25.004672Z",
     "start_time": "2025-02-20T09:38:24.965989Z"
    }
   },
   "cell_type": "code",
   "source": [
    "data_np = data.to_numpy()\n",
    "scaler = RobustScaler(with_centering=True, with_scaling=True, quantile_range=(25.0, 75.0), unit_variance=False)\n",
    "data_np[:, [0, 29]] = scaler.fit_transform(data_np[:, [0, 29]])\n"
   ],
   "id": "842bde08d7f1f203",
   "outputs": [],
   "execution_count": 3
  },
  {
   "metadata": {
    "ExecuteTime": {
     "end_time": "2025-02-20T09:38:26.685309Z",
     "start_time": "2025-02-20T09:38:26.643871Z"
    }
   },
   "cell_type": "code",
   "source": [
    "fraud_data = data_np[data_np[:, -1] == 1]\n",
    "print(fraud_data.shape)"
   ],
   "id": "924f1e76f86ccb8b",
   "outputs": [
    {
     "name": "stdout",
     "output_type": "stream",
     "text": [
      "(492, 31)\n"
     ]
    }
   ],
   "execution_count": 4
  },
  {
   "metadata": {
    "ExecuteTime": {
     "end_time": "2025-02-20T09:38:29.940446Z",
     "start_time": "2025-02-20T09:38:29.785784Z"
    }
   },
   "cell_type": "code",
   "source": [
    "legit_data = data_np[data_np[:, -1] == 0]\n",
    "legit_data_lim = legit_data[np.random.choice(legit_data.shape[0], 492, replace=False)]\n",
    "print(legit_data_lim.shape)"
   ],
   "id": "f292160c1397fb06",
   "outputs": [
    {
     "name": "stdout",
     "output_type": "stream",
     "text": [
      "(492, 31)\n"
     ]
    }
   ],
   "execution_count": 5
  },
  {
   "metadata": {
    "ExecuteTime": {
     "end_time": "2025-02-20T09:38:31.031202Z",
     "start_time": "2025-02-20T09:38:31.026492Z"
    }
   },
   "cell_type": "code",
   "source": [
    "train_dataset = np.vstack((legit_data_lim, fraud_data))\n",
    "np.random.shuffle(train_dataset)\n",
    "print(legit_data_lim.shape[0]*2)\n",
    "print(train_dataset.shape)"
   ],
   "id": "5062731fbc5d7cdf",
   "outputs": [
    {
     "name": "stdout",
     "output_type": "stream",
     "text": [
      "984\n",
      "(984, 31)\n"
     ]
    }
   ],
   "execution_count": 6
  },
  {
   "metadata": {
    "ExecuteTime": {
     "end_time": "2025-02-20T09:38:32.130513Z",
     "start_time": "2025-02-20T09:38:32.126328Z"
    }
   },
   "cell_type": "code",
   "source": [
    "train_labels = train_dataset[:, -1]\n",
    "train_dataset = train_dataset[:, :-1]\n",
    "print(train_labels.shape)\n",
    "print(train_dataset.shape)"
   ],
   "id": "b79538a8df785196",
   "outputs": [
    {
     "name": "stdout",
     "output_type": "stream",
     "text": [
      "(984,)\n",
      "(984, 30)\n"
     ]
    }
   ],
   "execution_count": 7
  },
  {
   "metadata": {
    "ExecuteTime": {
     "end_time": "2025-02-20T09:38:33.259339Z",
     "start_time": "2025-02-20T09:38:33.253784Z"
    }
   },
   "cell_type": "code",
   "source": [
    "class SVM:\n",
    "    def __init__(self, lmbda=1.0):\n",
    "        self.lmbda = lmbda\n",
    "        self.w = None\n",
    "\n",
    "    def loss(self, params, X, y):\n",
    "        # Compute the decision function Y = Xw + b\n",
    "        decision = jnp.dot(X, params[:-1]) + params[-1]\n",
    "        # Compute the hinge loss\n",
    "        loss_val = jnp.maximum(0, 1 - y * decision)\n",
    "        # Regularization term (L2 norm of w)\n",
    "        reg_term = self.lmbda * jnp.sum(params ** 2)\n",
    "        # Total loss\n",
    "        return reg_term + jnp.mean(loss_val)\n",
    "\n",
    "    def train(self, X, y):\n",
    "        _, n_features = X.shape\n",
    "\n",
    "        # Initialize weights and bias\n",
    "        self.w = jnp.zeros(n_features + 1)\n",
    "\n",
    "        # Solve optimization problem\n",
    "        opt_res = jax.scipy.optimize.minimize(self.loss, self.w, method=\"BFGS\", args=(X, y))\n",
    "        self.w = opt_res.x\n",
    "\n",
    "    def predict(self, X):\n",
    "        # Decision function\n",
    "        decision = jnp.dot(X, self.w[:-1]) + self.w[-1]\n",
    "        return jnp.sign(decision)"
   ],
   "id": "b5e4e4e0f2607c46",
   "outputs": [],
   "execution_count": 8
  },
  {
   "metadata": {
    "ExecuteTime": {
     "end_time": "2025-02-20T09:38:35.551368Z",
     "start_time": "2025-02-20T09:38:34.978819Z"
    }
   },
   "cell_type": "code",
   "source": [
    "from sklearn.model_selection import train_test_split\n",
    "\n",
    "data_train, data_test, labels_train, labels_test = train_test_split(train_dataset, train_labels, test_size=0.2, random_state=42)\n",
    "\n",
    "# Convert data to JAX arrays\n",
    "data_train = jnp.array(data_train)\n",
    "labels_train = jnp.array(labels_train)\n",
    "data_test = jnp.array(data_test)\n",
    "labels_test = jnp.array(labels_test)\n",
    "\n",
    "print(data_train.shape)\n",
    "print(labels_train.shape)\n",
    "print(data_test.shape)\n",
    "print(labels_test.shape)"
   ],
   "id": "c89ab7b94de2fad",
   "outputs": [
    {
     "name": "stdout",
     "output_type": "stream",
     "text": [
      "(787, 30)\n",
      "(787,)\n",
      "(197, 30)\n",
      "(197,)\n"
     ]
    }
   ],
   "execution_count": 9
  },
  {
   "metadata": {
    "ExecuteTime": {
     "end_time": "2025-02-20T09:38:38.827548Z",
     "start_time": "2025-02-20T09:38:37.250451Z"
    }
   },
   "cell_type": "code",
   "source": [
    "svm = SVM(lmbda=0.0001)\n",
    "svm.train(data_train, labels_train)"
   ],
   "id": "fd717377a03e532a",
   "outputs": [],
   "execution_count": 10
  },
  {
   "metadata": {
    "ExecuteTime": {
     "end_time": "2025-02-20T09:38:39.654402Z",
     "start_time": "2025-02-20T09:38:39.437701Z"
    }
   },
   "cell_type": "code",
   "source": [
    "labels_pred_train = svm.predict(data_train)\n",
    "labels_pred_test = svm.predict(data_test)"
   ],
   "id": "dc78623461659dbb",
   "outputs": [],
   "execution_count": 11
  },
  {
   "metadata": {
    "ExecuteTime": {
     "end_time": "2025-02-20T09:38:41.122007Z",
     "start_time": "2025-02-20T09:38:40.971455Z"
    }
   },
   "cell_type": "code",
   "source": [
    "accuracy_train = jnp.mean(labels_pred_train == labels_train)\n",
    "accuracy_test = jnp.mean(labels_pred_test == labels_test)\n",
    "print(f\"Train Accuracy: {accuracy_train:.4f}\")\n",
    "print(f\"Test Accuracy: {accuracy_test:.4f}\")"
   ],
   "id": "934cdb77594c5563",
   "outputs": [
    {
     "name": "stdout",
     "output_type": "stream",
     "text": [
      "Train Accuracy: 0.4994\n",
      "Test Accuracy: 0.4975\n"
     ]
    }
   ],
   "execution_count": 12
  },
  {
   "metadata": {
    "ExecuteTime": {
     "end_time": "2025-02-20T09:38:43.347402Z",
     "start_time": "2025-02-20T09:38:43.189945Z"
    }
   },
   "cell_type": "code",
   "source": [
    "from sklearn.svm import SVC\n",
    "\n",
    "model = SVC(kernel='linear', C=1.0)\n",
    "model.fit(data_train, labels_train)\n",
    "\n",
    "labels_pred_test = model.predict(data_test)\n",
    "labels_pred_train = model.predict(data_train)\n",
    "accuracy_train = jnp.mean(labels_pred_train == labels_train)\n",
    "accuracy_test = jnp.mean(labels_pred_test == labels_test)\n",
    "print(f\"Train Accuracy: {accuracy_train:.4f}\")\n",
    "print(f\"Test Accuracy: {accuracy_test:.4f}\")"
   ],
   "id": "acfc0229954339ba",
   "outputs": [
    {
     "name": "stdout",
     "output_type": "stream",
     "text": [
      "Train Accuracy: 0.9479\n",
      "Test Accuracy: 0.9239\n"
     ]
    }
   ],
   "execution_count": 13
  },
  {
   "metadata": {
    "ExecuteTime": {
     "end_time": "2025-02-20T10:13:18.485348Z",
     "start_time": "2025-02-20T10:13:18.172334Z"
    }
   },
   "cell_type": "code",
   "source": [
    "# initialize neural network for encoder\n",
    "n1, n2, n3, n4, n5 = 31, 23, 19, 17, 8\n",
    "np.random.seed(0) # for reproducibility\n",
    "\n",
    "# creates a matrix  n2xn1 of samples from normal distribution\n",
    "# where for every node in n2 there is a weight for the corresponding layer in n1\n",
    "W1 = np.random.randn(n2, n1)\n",
    "b1 = np.zeros((n2, 1))\n",
    "W2 = np.random.randn(n3, n2)\n",
    "b2 = np.zeros((n3, 1))\n",
    "W3 = np.random.randn(n4, n3)\n",
    "b3 = np.zeros((n4, 1))\n",
    "W4 = np.random.randn(n5, n3)\n",
    "b4 = np.zeros((n5, 1))\n",
    "\n",
    "params_encoder = [W1, b1, W2, b2, W3, b3, W4, b4]\n",
    "params_encoder = [jnp.array(p) for p in params_encoder]"
   ],
   "id": "c901cfc42094f072",
   "outputs": [],
   "execution_count": 19
  },
  {
   "metadata": {
    "ExecuteTime": {
     "end_time": "2025-02-20T10:13:35.112758Z",
     "start_time": "2025-02-20T10:13:35.046487Z"
    }
   },
   "cell_type": "code",
   "source": "dataset = data.to_numpy()",
   "id": "9ad46cc0aa7e816e",
   "outputs": [],
   "execution_count": 20
  },
  {
   "metadata": {
    "ExecuteTime": {
     "end_time": "2025-02-20T10:13:53.703236Z",
     "start_time": "2025-02-20T10:13:51.801488Z"
    }
   },
   "cell_type": "code",
   "source": [
    "def encoder(x, params):\n",
    "  # unfold the parameters\n",
    "  W1, b1, W2, b2, W3, b3, W4, b4 = params\n",
    "\n",
    "  # first layer is x\n",
    "  layer1 = x.T\n",
    "  # other layers use the activation function\n",
    "  layer2 = nn.relu(W1 @ layer1 + b1)\n",
    "  layer3 = nn.relu(W2 @ layer2 + b2)\n",
    "  layer4 = nn.relu(W3 @ layer3 + b3)\n",
    "  # output\n",
    "  layer5 = nn.relu(W4 @ layer4 + b4)\n",
    "\n",
    "  return layer5.T\n",
    "\n",
    "# initialize before going on\n",
    "encoder(dataset, params_encoder)"
   ],
   "id": "5a82e11e3b227644",
   "outputs": [
    {
     "ename": "TypeError",
     "evalue": "dot_general requires contracting dimensions to have the same shape, got (19,) and (17,).",
     "output_type": "error",
     "traceback": [
      "\u001B[0;31m---------------------------------------------------------------------------\u001B[0m",
      "\u001B[0;31mTypeError\u001B[0m                                 Traceback (most recent call last)",
      "Cell \u001B[0;32mIn[24], line 17\u001B[0m\n\u001B[1;32m     14\u001B[0m   \u001B[38;5;28;01mreturn\u001B[39;00m layer5\u001B[38;5;241m.\u001B[39mT\n\u001B[1;32m     16\u001B[0m \u001B[38;5;66;03m# initialize before going on\u001B[39;00m\n\u001B[0;32m---> 17\u001B[0m \u001B[43mencoder\u001B[49m\u001B[43m(\u001B[49m\u001B[43mdataset\u001B[49m\u001B[43m,\u001B[49m\u001B[43m \u001B[49m\u001B[43mparams_encoder\u001B[49m\u001B[43m)\u001B[49m\n",
      "Cell \u001B[0;32mIn[24], line 12\u001B[0m, in \u001B[0;36mencoder\u001B[0;34m(x, params)\u001B[0m\n\u001B[1;32m     10\u001B[0m layer4 \u001B[38;5;241m=\u001B[39m nn\u001B[38;5;241m.\u001B[39mrelu(W3 \u001B[38;5;241m@\u001B[39m layer3 \u001B[38;5;241m+\u001B[39m b3)\n\u001B[1;32m     11\u001B[0m \u001B[38;5;66;03m# output\u001B[39;00m\n\u001B[0;32m---> 12\u001B[0m layer5 \u001B[38;5;241m=\u001B[39m nn\u001B[38;5;241m.\u001B[39mrelu(\u001B[43mW4\u001B[49m\u001B[43m \u001B[49m\u001B[38;5;241;43m@\u001B[39;49m\u001B[43m \u001B[49m\u001B[43mlayer4\u001B[49m \u001B[38;5;241m+\u001B[39m b4)\n\u001B[1;32m     14\u001B[0m \u001B[38;5;28;01mreturn\u001B[39;00m layer5\u001B[38;5;241m.\u001B[39mT\n",
      "File \u001B[0;32m~/Desktop/pythonProject/.venv/lib/python3.10/site-packages/jax/_src/numpy/array_methods.py:578\u001B[0m, in \u001B[0;36m_defer_to_unrecognized_arg.<locals>.deferring_binary_op\u001B[0;34m(self, other)\u001B[0m\n\u001B[1;32m    576\u001B[0m args \u001B[38;5;241m=\u001B[39m (other, \u001B[38;5;28mself\u001B[39m) \u001B[38;5;28;01mif\u001B[39;00m swap \u001B[38;5;28;01melse\u001B[39;00m (\u001B[38;5;28mself\u001B[39m, other)\n\u001B[1;32m    577\u001B[0m \u001B[38;5;28;01mif\u001B[39;00m \u001B[38;5;28misinstance\u001B[39m(other, _accepted_binop_types):\n\u001B[0;32m--> 578\u001B[0m   \u001B[38;5;28;01mreturn\u001B[39;00m \u001B[43mbinary_op\u001B[49m\u001B[43m(\u001B[49m\u001B[38;5;241;43m*\u001B[39;49m\u001B[43margs\u001B[49m\u001B[43m)\u001B[49m\n\u001B[1;32m    579\u001B[0m \u001B[38;5;66;03m# Note: don't use isinstance here, because we don't want to raise for\u001B[39;00m\n\u001B[1;32m    580\u001B[0m \u001B[38;5;66;03m# subclasses, e.g. NamedTuple objects that may override operators.\u001B[39;00m\n\u001B[1;32m    581\u001B[0m \u001B[38;5;28;01mif\u001B[39;00m \u001B[38;5;28mtype\u001B[39m(other) \u001B[38;5;129;01min\u001B[39;00m _rejected_binop_types:\n",
      "    \u001B[0;31m[... skipping hidden 14 frame]\u001B[0m\n",
      "File \u001B[0;32m~/Desktop/pythonProject/.venv/lib/python3.10/site-packages/jax/_src/numpy/lax_numpy.py:9185\u001B[0m, in \u001B[0;36mmatmul\u001B[0;34m(a, b, precision, preferred_element_type)\u001B[0m\n\u001B[1;32m   9183\u001B[0m a \u001B[38;5;241m=\u001B[39m lax\u001B[38;5;241m.\u001B[39msqueeze(a, \u001B[38;5;28mtuple\u001B[39m(a_squeeze))\n\u001B[1;32m   9184\u001B[0m b \u001B[38;5;241m=\u001B[39m lax\u001B[38;5;241m.\u001B[39msqueeze(b, \u001B[38;5;28mtuple\u001B[39m(b_squeeze))\n\u001B[0;32m-> 9185\u001B[0m out \u001B[38;5;241m=\u001B[39m \u001B[43mlax\u001B[49m\u001B[38;5;241;43m.\u001B[39;49m\u001B[43mdot_general\u001B[49m\u001B[43m(\u001B[49m\n\u001B[1;32m   9186\u001B[0m \u001B[43m  \u001B[49m\u001B[43ma\u001B[49m\u001B[43m,\u001B[49m\u001B[43m \u001B[49m\u001B[43mb\u001B[49m\u001B[43m,\u001B[49m\u001B[43m \u001B[49m\u001B[43m(\u001B[49m\u001B[43m(\u001B[49m\u001B[43m(\u001B[49m\u001B[43mndim\u001B[49m\u001B[43m(\u001B[49m\u001B[43ma\u001B[49m\u001B[43m)\u001B[49m\u001B[43m \u001B[49m\u001B[38;5;241;43m-\u001B[39;49m\u001B[43m \u001B[49m\u001B[38;5;241;43m1\u001B[39;49m\u001B[43m,\u001B[49m\u001B[43m)\u001B[49m\u001B[43m,\u001B[49m\u001B[43m \u001B[49m\u001B[43m(\u001B[49m\u001B[43mndim\u001B[49m\u001B[43m(\u001B[49m\u001B[43mb\u001B[49m\u001B[43m)\u001B[49m\u001B[43m \u001B[49m\u001B[38;5;241;43m-\u001B[39;49m\u001B[43m \u001B[49m\u001B[38;5;241;43m1\u001B[39;49m\u001B[43m \u001B[49m\u001B[38;5;241;43m-\u001B[39;49m\u001B[43m \u001B[49m\u001B[43mb_is_mat\u001B[49m\u001B[43m,\u001B[49m\u001B[43m)\u001B[49m\u001B[43m)\u001B[49m\u001B[43m,\u001B[49m\u001B[43m \u001B[49m\u001B[43m(\u001B[49m\u001B[43ma_batch\u001B[49m\u001B[43m,\u001B[49m\u001B[43m \u001B[49m\u001B[43mb_batch\u001B[49m\u001B[43m)\u001B[49m\u001B[43m)\u001B[49m\u001B[43m,\u001B[49m\n\u001B[1;32m   9187\u001B[0m \u001B[43m  \u001B[49m\u001B[43mprecision\u001B[49m\u001B[38;5;241;43m=\u001B[39;49m\u001B[43mprecision\u001B[49m\u001B[43m,\u001B[49m\u001B[43m \u001B[49m\u001B[43mpreferred_element_type\u001B[49m\u001B[38;5;241;43m=\u001B[39;49m\u001B[43mpreferred_element_type\u001B[49m\u001B[43m)\u001B[49m\n\u001B[1;32m   9188\u001B[0m result \u001B[38;5;241m=\u001B[39m lax\u001B[38;5;241m.\u001B[39mtranspose(out, perm)\n\u001B[1;32m   9189\u001B[0m \u001B[38;5;28;01mreturn\u001B[39;00m lax_internal\u001B[38;5;241m.\u001B[39m_convert_element_type(result, preferred_element_type, output_weak_type)\n",
      "    \u001B[0;31m[... skipping hidden 7 frame]\u001B[0m\n",
      "File \u001B[0;32m~/Desktop/pythonProject/.venv/lib/python3.10/site-packages/jax/_src/lax/lax.py:3518\u001B[0m, in \u001B[0;36m_dot_general_shape_rule\u001B[0;34m(lhs, rhs, dimension_numbers, precision, preferred_element_type, out_sharding)\u001B[0m\n\u001B[1;32m   3515\u001B[0m \u001B[38;5;28;01mif\u001B[39;00m \u001B[38;5;129;01mnot\u001B[39;00m core\u001B[38;5;241m.\u001B[39mdefinitely_equal_shape(lhs_contracting_shape, rhs_contracting_shape):\n\u001B[1;32m   3516\u001B[0m   msg \u001B[38;5;241m=\u001B[39m (\u001B[38;5;124m\"\u001B[39m\u001B[38;5;124mdot_general requires contracting dimensions to have the same \u001B[39m\u001B[38;5;124m\"\u001B[39m\n\u001B[1;32m   3517\u001B[0m          \u001B[38;5;124m\"\u001B[39m\u001B[38;5;124mshape, got \u001B[39m\u001B[38;5;132;01m{}\u001B[39;00m\u001B[38;5;124m and \u001B[39m\u001B[38;5;132;01m{}\u001B[39;00m\u001B[38;5;124m.\u001B[39m\u001B[38;5;124m\"\u001B[39m)\n\u001B[0;32m-> 3518\u001B[0m   \u001B[38;5;28;01mraise\u001B[39;00m \u001B[38;5;167;01mTypeError\u001B[39;00m(msg\u001B[38;5;241m.\u001B[39mformat(lhs_contracting_shape, rhs_contracting_shape))\n\u001B[1;32m   3520\u001B[0m \u001B[38;5;28;01mreturn\u001B[39;00m _dot_general_shape_computation(lhs\u001B[38;5;241m.\u001B[39mshape, rhs\u001B[38;5;241m.\u001B[39mshape, dimension_numbers)\n",
      "\u001B[0;31mTypeError\u001B[0m: dot_general requires contracting dimensions to have the same shape, got (19,) and (17,)."
     ]
    }
   ],
   "execution_count": 24
  },
  {
   "metadata": {},
   "cell_type": "code",
   "outputs": [],
   "execution_count": null,
   "source": [
    "n1, n2, n3, n4, n5 = 8, 17, 19, 23, 31\n",
    "\n",
    "W1 = np.random.randn(n2, n1)\n",
    "b1 = np.zeros((n2, 1))\n",
    "W2 = np.random.randn(n3, n2)\n",
    "b2 = np.zeros((n3, 1))\n",
    "W3 = np.random.randn(n4, n3)\n",
    "b3 = np.zeros((n4, 1))\n",
    "W4 = np.random.randn(n5, n3)\n",
    "b4 = np.zeros((n5, 1))\n",
    "\n",
    "params_decoder = [W1, b1, W2, b2, W3, b3, W4, b4]\n",
    "params_decoder = [jnp.array(p) for p in params_decoder]\n",
    "\n",
    "def decoder(x, params):\n",
    "  # unfold the parameters\n",
    "  W1, b1, W2, b2, W3, b3, W4, b4 = params\n",
    "\n",
    "  # first layer is x\n",
    "  layer1 = x.T\n",
    "  # other layers use the activation function\n",
    "  layer2 = nn.relu(W1 @ layer1 + b1)\n",
    "  layer3 = nn.relu(W2 @ layer2 + b2)\n",
    "  layer4 = nn.relu(W3 @ layer3 + b3)\n",
    "  # output\n",
    "  layer5 = nn.sigmoid(W4 @ layer4 + b4)\n",
    "\n",
    "  return layer5.T\n",
    "\n",
    "decoder(dataset, params_decoder)"
   ],
   "id": "bc597e439100a2d9"
  }
 ],
 "metadata": {
  "kernelspec": {
   "display_name": "Python 3",
   "language": "python",
   "name": "python3"
  },
  "language_info": {
   "codemirror_mode": {
    "name": "ipython",
    "version": 2
   },
   "file_extension": ".py",
   "mimetype": "text/x-python",
   "name": "python",
   "nbconvert_exporter": "python",
   "pygments_lexer": "ipython2",
   "version": "2.7.6"
  }
 },
 "nbformat": 4,
 "nbformat_minor": 5
}
