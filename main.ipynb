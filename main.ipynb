{
 "cells": [
  {
   "cell_type": "code",
   "execution_count": 322,
   "id": "initial_id",
   "metadata": {
    "ExecuteTime": {
     "end_time": "2025-02-20T15:36:16.520898Z",
     "start_time": "2025-02-20T15:36:15.552153Z"
    },
    "collapsed": true
   },
   "outputs": [],
   "source": [
    "\n",
    "import numpy as np\n",
    "import pandas as pd\n",
    "from sklearn.preprocessing import RobustScaler\n",
    "import jax.numpy as jnp\n",
    "import jax\n",
    "import jax.nn as nn\n",
    "import jax.scipy.optimize\n",
    "import matplotlib.pyplot as plt\n",
    "data = pd.read_csv('creditcard.csv')"
   ]
  },
  {
   "cell_type": "code",
   "execution_count": 323,
   "id": "7442d6d164f9e5ba",
   "metadata": {
    "ExecuteTime": {
     "end_time": "2025-02-20T15:36:16.559877Z",
     "start_time": "2025-02-20T15:36:16.549483Z"
    }
   },
   "outputs": [
    {
     "name": "stdout",
     "output_type": "stream",
     "text": [
      "   Time        V1        V2        V3        V4        V5        V6        V7  \\\n",
      "0   0.0 -1.359807 -0.072781  2.536347  1.378155 -0.338321  0.462388  0.239599   \n",
      "1   0.0  1.191857  0.266151  0.166480  0.448154  0.060018 -0.082361 -0.078803   \n",
      "2   1.0 -1.358354 -1.340163  1.773209  0.379780 -0.503198  1.800499  0.791461   \n",
      "3   1.0 -0.966272 -0.185226  1.792993 -0.863291 -0.010309  1.247203  0.237609   \n",
      "4   2.0 -1.158233  0.877737  1.548718  0.403034 -0.407193  0.095921  0.592941   \n",
      "\n",
      "         V8        V9  ...       V21       V22       V23       V24       V25  \\\n",
      "0  0.098698  0.363787  ... -0.018307  0.277838 -0.110474  0.066928  0.128539   \n",
      "1  0.085102 -0.255425  ... -0.225775 -0.638672  0.101288 -0.339846  0.167170   \n",
      "2  0.247676 -1.514654  ...  0.247998  0.771679  0.909412 -0.689281 -0.327642   \n",
      "3  0.377436 -1.387024  ... -0.108300  0.005274 -0.190321 -1.175575  0.647376   \n",
      "4 -0.270533  0.817739  ... -0.009431  0.798278 -0.137458  0.141267 -0.206010   \n",
      "\n",
      "        V26       V27       V28  Amount  Class  \n",
      "0 -0.189115  0.133558 -0.021053  149.62      0  \n",
      "1  0.125895 -0.008983  0.014724    2.69      0  \n",
      "2 -0.139097 -0.055353 -0.059752  378.66      0  \n",
      "3 -0.221929  0.062723  0.061458  123.50      0  \n",
      "4  0.502292  0.219422  0.215153   69.99      0  \n",
      "\n",
      "[5 rows x 31 columns]\n"
     ]
    }
   ],
   "source": [
    "print(data.head())"
   ]
  },
  {
   "cell_type": "code",
   "execution_count": 324,
   "id": "842bde08d7f1f203",
   "metadata": {
    "ExecuteTime": {
     "end_time": "2025-02-20T15:36:16.786862Z",
     "start_time": "2025-02-20T15:36:16.697999Z"
    }
   },
   "outputs": [
    {
     "name": "stdout",
     "output_type": "stream",
     "text": [
      "(284807, 31)\n"
     ]
    }
   ],
   "source": [
    "from sklearn.preprocessing import StandardScaler\n",
    "\n",
    "data_np = data.to_numpy()\n",
    "\n",
    "#scaler = RobustScaler(with_centering=True, with_scaling=True, quantile_range=(25.0, 75.0), unit_variance=False)\n",
    "scaler = StandardScaler()\n",
    "data_np[:, :-1] = scaler.fit_transform(data_np[:, :-1])\n",
    "#data_np[:, [0, 29]] = scaler.fit_transform(data_np[:, [0, 29]])\n",
    "print(data_np.shape)"
   ]
  },
  {
   "cell_type": "code",
   "execution_count": 325,
   "id": "924f1e76f86ccb8b",
   "metadata": {
    "ExecuteTime": {
     "end_time": "2025-02-20T15:36:16.802883Z",
     "start_time": "2025-02-20T15:36:16.798467Z"
    }
   },
   "outputs": [
    {
     "name": "stdout",
     "output_type": "stream",
     "text": [
      "(492, 31)\n"
     ]
    }
   ],
   "source": [
    "fraud_data = data_np[data_np[:, -1] == 1]\n",
    "print(fraud_data.shape)"
   ]
  },
  {
   "cell_type": "code",
   "execution_count": 326,
   "id": "f292160c1397fb06",
   "metadata": {
    "ExecuteTime": {
     "end_time": "2025-02-20T15:36:16.892963Z",
     "start_time": "2025-02-20T15:36:16.858198Z"
    }
   },
   "outputs": [
    {
     "name": "stdout",
     "output_type": "stream",
     "text": [
      "(492, 31)\n"
     ]
    }
   ],
   "source": [
    "legit_data = data_np[data_np[:, -1] == 0]\n",
    "legit_data_lim = legit_data[np.random.choice(legit_data.shape[0], 492, replace=False)]\n",
    "print(legit_data_lim.shape)"
   ]
  },
  {
   "cell_type": "code",
   "execution_count": 327,
   "id": "5062731fbc5d7cdf",
   "metadata": {
    "ExecuteTime": {
     "end_time": "2025-02-20T15:36:16.995905Z",
     "start_time": "2025-02-20T15:36:16.992245Z"
    }
   },
   "outputs": [
    {
     "name": "stdout",
     "output_type": "stream",
     "text": [
      "984\n",
      "(984, 31)\n"
     ]
    }
   ],
   "source": [
    "train_dataset = np.vstack((legit_data_lim, fraud_data))\n",
    "np.random.shuffle(train_dataset)\n",
    "print(legit_data_lim.shape[0]*2)\n",
    "print(train_dataset.shape)"
   ]
  },
  {
   "cell_type": "code",
   "execution_count": 328,
   "id": "b79538a8df785196",
   "metadata": {
    "ExecuteTime": {
     "end_time": "2025-02-20T15:36:17.013324Z",
     "start_time": "2025-02-20T15:36:17.009190Z"
    }
   },
   "outputs": [
    {
     "name": "stdout",
     "output_type": "stream",
     "text": [
      "(984,)\n",
      "(984, 30)\n"
     ]
    }
   ],
   "source": [
    "train_labels = train_dataset[:, -1]\n",
    "train_dataset = train_dataset[:, :-1]\n",
    "print(train_labels.shape)\n",
    "print(train_dataset.shape)"
   ]
  },
  {
   "cell_type": "code",
   "execution_count": 329,
   "id": "b5e4e4e0f2607c46",
   "metadata": {
    "ExecuteTime": {
     "end_time": "2025-02-20T15:36:17.069840Z",
     "start_time": "2025-02-20T15:36:17.064791Z"
    }
   },
   "outputs": [],
   "source": [
    "class SVM:\n",
    "    def __init__(self, lmbda=1.0):\n",
    "        self.lmbda = lmbda\n",
    "        self.w = None\n",
    "\n",
    "    def loss(self, params, X, y):\n",
    "        # Compute the decision function Y = Xw + b\n",
    "        decision = jnp.dot(X, params[:-1]) + params[-1]\n",
    "        # Compute the hinge loss\n",
    "        loss_val = jnp.maximum(0, 1 - y * decision)\n",
    "        # Regularization term (L2 norm of w)\n",
    "        reg_term = self.lmbda * jnp.sum(params ** 2)\n",
    "        # Total loss\n",
    "        return reg_term + jnp.mean(loss_val)\n",
    "\n",
    "    def train(self, X, y):\n",
    "        _, n_features = X.shape\n",
    "\n",
    "        # Initialize weights and bias\n",
    "        self.w = jnp.zeros(n_features + 1)\n",
    "\n",
    "        # Solve optimization problem\n",
    "        opt_res = jax.scipy.optimize.minimize(self.loss, self.w, method=\"BFGS\", args=(X, y))\n",
    "        self.w = opt_res.x\n",
    "\n",
    "    def predict(self, X):\n",
    "        # Decision function\n",
    "        decision = jnp.dot(X, self.w[:-1]) + self.w[-1]\n",
    "        return jnp.sign(decision)"
   ]
  },
  {
   "cell_type": "code",
   "execution_count": 330,
   "id": "c89ab7b94de2fad",
   "metadata": {
    "ExecuteTime": {
     "end_time": "2025-02-20T15:36:17.134764Z",
     "start_time": "2025-02-20T15:36:17.116339Z"
    }
   },
   "outputs": [
    {
     "name": "stdout",
     "output_type": "stream",
     "text": [
      "(787, 30)\n",
      "(787,)\n",
      "(197, 30)\n",
      "(197,)\n"
     ]
    }
   ],
   "source": [
    "from sklearn.model_selection import train_test_split\n",
    "\n",
    "data_train, data_test, labels_train, labels_test = train_test_split(train_dataset, train_labels, test_size=0.2, random_state=42)\n",
    "\n",
    "# Convert data to JAX arrays\n",
    "data_train = jnp.array(data_train)\n",
    "labels_train = jnp.array(labels_train)\n",
    "data_test = jnp.array(data_test)\n",
    "labels_test = jnp.array(labels_test)\n",
    "\n",
    "print(data_train.shape)\n",
    "print(labels_train.shape)\n",
    "print(data_test.shape)\n",
    "print(labels_test.shape)"
   ]
  },
  {
   "cell_type": "code",
   "execution_count": 331,
   "id": "fd717377a03e532a",
   "metadata": {
    "ExecuteTime": {
     "end_time": "2025-02-20T15:36:17.926533Z",
     "start_time": "2025-02-20T15:36:17.188422Z"
    }
   },
   "outputs": [],
   "source": [
    "svm = SVM(lmbda=0.0001)\n",
    "svm.train(data_train, labels_train)"
   ]
  },
  {
   "cell_type": "code",
   "execution_count": 332,
   "id": "dc78623461659dbb",
   "metadata": {
    "ExecuteTime": {
     "end_time": "2025-02-20T15:36:17.998535Z",
     "start_time": "2025-02-20T15:36:17.992545Z"
    }
   },
   "outputs": [],
   "source": [
    "labels_pred_train = svm.predict(data_train)\n",
    "labels_pred_test = svm.predict(data_test)"
   ]
  },
  {
   "cell_type": "code",
   "execution_count": 333,
   "id": "934cdb77594c5563",
   "metadata": {
    "ExecuteTime": {
     "end_time": "2025-02-20T15:36:18.074430Z",
     "start_time": "2025-02-20T15:36:18.067884Z"
    }
   },
   "outputs": [
    {
     "name": "stdout",
     "output_type": "stream",
     "text": [
      "Train Accuracy: 0.5095\n",
      "Test Accuracy: 0.4619\n"
     ]
    }
   ],
   "source": [
    "accuracy_train = jnp.mean(labels_pred_train == labels_train)\n",
    "accuracy_test = jnp.mean(labels_pred_test == labels_test)\n",
    "print(f\"Train Accuracy: {accuracy_train:.4f}\")\n",
    "print(f\"Test Accuracy: {accuracy_test:.4f}\")"
   ]
  },
  {
   "cell_type": "code",
   "execution_count": 334,
   "id": "acfc0229954339ba",
   "metadata": {
    "ExecuteTime": {
     "end_time": "2025-02-20T15:36:18.200421Z",
     "start_time": "2025-02-20T15:36:18.179014Z"
    }
   },
   "outputs": [
    {
     "name": "stdout",
     "output_type": "stream",
     "text": [
      "Train Accuracy: 0.9504\n",
      "Test Accuracy: 0.9391\n"
     ]
    }
   ],
   "source": [
    "from sklearn.svm import SVC\n",
    "\n",
    "model = SVC(kernel='linear', C=1.0)\n",
    "model.fit(data_train, labels_train)\n",
    "\n",
    "labels_pred_test = model.predict(data_test)\n",
    "labels_pred_train = model.predict(data_train)\n",
    "accuracy_train = jnp.mean(labels_pred_train == labels_train)\n",
    "accuracy_test = jnp.mean(labels_pred_test == labels_test)\n",
    "print(f\"Train Accuracy: {accuracy_train:.4f}\")\n",
    "print(f\"Test Accuracy: {accuracy_test:.4f}\")"
   ]
  },
  {
   "cell_type": "code",
   "execution_count": 335,
   "id": "c901cfc42094f072",
   "metadata": {
    "ExecuteTime": {
     "end_time": "2025-02-20T15:36:18.215634Z",
     "start_time": "2025-02-20T15:36:18.206661Z"
    }
   },
   "outputs": [],
   "source": [
    "# initialize neural network for encoder\n",
    "n1, n2, n3, n4, n5 = 31, 23, 19, 17, 8\n",
    "np.random.seed(0) # for reproducibility\n",
    "\n",
    "# creates a matrix  n2xn1 of samples from normal distribution\n",
    "# where for every node in n2 there is a weight for the corresponding layer in n1\n",
    "W1 = np.random.randn(n2, n1)\n",
    "b1 = np.zeros((n2, 1))\n",
    "W2 = np.random.randn(n3, n2)\n",
    "b2 = np.zeros((n3, 1))\n",
    "W3 = np.random.randn(n4, n3)\n",
    "b3 = np.zeros((n4, 1))\n",
    "W4 = np.random.randn(n5, n4)\n",
    "b4 = np.zeros((n5, 1))\n",
    "\n",
    "params_encoder = [W1, b1, W2, b2, W3, b3, W4, b4]\n",
    "params_encoder = [jnp.array(p) for p in params_encoder]"
   ]
  },
  {
   "cell_type": "code",
   "execution_count": 336,
   "id": "9ad46cc0aa7e816e",
   "metadata": {
    "ExecuteTime": {
     "end_time": "2025-02-20T15:36:18.275817Z",
     "start_time": "2025-02-20T15:36:18.271607Z"
    }
   },
   "outputs": [],
   "source": [
    "#dataset = data.to_numpy()"
   ]
  },
  {
   "cell_type": "code",
   "execution_count": 337,
   "id": "5a82e11e3b227644",
   "metadata": {
    "ExecuteTime": {
     "end_time": "2025-02-20T15:36:18.482757Z",
     "start_time": "2025-02-20T15:36:18.325591Z"
    }
   },
   "outputs": [],
   "source": [
    "def encoder(x, params):\n",
    "  p1 = 0.1\n",
    "  p2 = 0.2\n",
    "  # unfold the parameters\n",
    "  W1, b1, W2, b2, W3, b3, W4, b4 = params\n",
    "\n",
    "  # first layer is x\n",
    "  layer1 = x.T\n",
    "  # other layers use the activation function\n",
    "  layer2 = nn.tanh(W1 @ layer1 + b1)\n",
    "  dropout_mask = (np.random.rand(*layer2.shape) > p1) / (1 - p1)\n",
    "  layer2 *= dropout_mask\n",
    "\n",
    "  layer3 = nn.tanh(W2 @ layer2 + b2)\n",
    "  dropout_mask = (np.random.rand(*layer3.shape) > p2) / (1 - p2)\n",
    "  layer3 *= dropout_mask\n",
    "\n",
    "  layer4 = nn.tanh(W3 @ layer3 + b3)\n",
    "  # output\n",
    "  layer5 = W4 @ layer4 + b4\n",
    "\n",
    "  return layer5.T\n",
    "\n",
    "# initialize before going on\n",
    "output = encoder(jnp.array(data_np), params_encoder)"
   ]
  },
  {
   "cell_type": "code",
   "execution_count": 338,
   "id": "bc597e439100a2d9",
   "metadata": {
    "ExecuteTime": {
     "end_time": "2025-02-20T15:36:18.688296Z",
     "start_time": "2025-02-20T15:36:18.584464Z"
    }
   },
   "outputs": [
    {
     "data": {
      "text/plain": [
       "Array([[-6.579332 ,  4.989444 , -3.3704083, ..., -1.9237446, -1.1780753,\n",
       "         7.91743  ],\n",
       "       [-6.457883 ,  5.145977 ,  1.7629483, ..., 10.516129 , -1.0856451,\n",
       "        -5.677205 ],\n",
       "       [-3.3877482, -4.89993  ,  3.766485 , ..., -3.269083 ,  2.0491838,\n",
       "        -1.3341264],\n",
       "       ...,\n",
       "       [ 2.5978467,  3.5403795, -2.8399744, ...,  0.729286 ,  0.5399008,\n",
       "         2.6912966],\n",
       "       [ 2.4301755, -6.392783 , -3.972366 , ..., -3.2688966,  5.9337068,\n",
       "        -1.9571061],\n",
       "       [ 3.5310018, -5.4814253,  1.4966251, ..., -1.0761633,  4.740267 ,\n",
       "        -2.6483815]], dtype=float32)"
      ]
     },
     "execution_count": 338,
     "metadata": {},
     "output_type": "execute_result"
    }
   ],
   "source": [
    "n1, n2, n3, n4, n5 = 8, 17, 19, 23, 31\n",
    "\n",
    "W1 = np.random.randn(n2, n1)\n",
    "b1 = np.zeros((n2, 1))\n",
    "W2 = np.random.randn(n3, n2)\n",
    "b2 = np.zeros((n3, 1))\n",
    "W3 = np.random.randn(n4, n3)\n",
    "b3 = np.zeros((n4, 1))\n",
    "W4 = np.random.randn(n5, n4)\n",
    "b4 = np.zeros((n5, 1))\n",
    "\n",
    "params_decoder = [W1, b1, W2, b2, W3, b3, W4, b4]\n",
    "params_decoder = [jnp.array(p) for p in params_decoder]\n",
    "\n",
    "def decoder(x, params):\n",
    "  p1 = 0.2\n",
    "  p2 = 0.1\n",
    "  # unfold the parameters\n",
    "  W1, b1, W2, b2, W3, b3, W4, b4 = params\n",
    "\n",
    "  # first layer is x\n",
    "  layer1 = x.T\n",
    "  # other layers use the activation function\n",
    "  layer2 = nn.tanh(W1 @ layer1 + b1)\n",
    "  dropout_mask = (np.random.rand(*layer2.shape) > p1) / (1 - p1)\n",
    "  layer2 *= dropout_mask\n",
    "\n",
    "  layer3 = nn.tanh(W2 @ layer2 + b2)\n",
    "  dropout_mask = (np.random.rand(*layer3.shape) > p2) / (1 - p2)\n",
    "  layer3 *= dropout_mask\n",
    "\n",
    "  layer4 = nn.tanh(W3 @ layer3 + b3)\n",
    "\n",
    "  # output\n",
    "  layer5 = W4 @ layer4 + b4\n",
    "\n",
    "  return layer5.T\n",
    "\n",
    "decoder(output, params_decoder)"
   ]
  },
  {
   "cell_type": "code",
   "execution_count": 339,
   "id": "c8a9c70d",
   "metadata": {
    "ExecuteTime": {
     "end_time": "2025-02-20T15:36:58.911804Z",
     "start_time": "2025-02-20T15:36:18.699782Z"
    }
   },
   "outputs": [
    {
     "name": "stdout",
     "output_type": "stream",
     "text": [
      "Epoch 0, Loss: 42.15123748779297\n",
      "Epoch 500, Loss: 11.465529441833496\n",
      "Epoch 1000, Loss: 10.32705307006836\n",
      "Epoch 1500, Loss: 9.726399421691895\n",
      "Epoch 2000, Loss: 9.179210662841797\n",
      "Epoch 2500, Loss: 8.462217330932617\n",
      "Epoch 3000, Loss: 8.259512901306152\n",
      "Epoch 3500, Loss: 8.030558586120605\n",
      "Epoch 4000, Loss: 7.581513404846191\n",
      "Epoch 4500, Loss: 7.923058986663818\n"
     ]
    },
    {
     "data": {
      "text/plain": [
       "Text(0, 0.5, 'Loss')"
      ]
     },
     "execution_count": 339,
     "metadata": {},
     "output_type": "execute_result"
    },
    {
     "data": {
      "image/png": "[encoded data removed]",
      "text/plain": [
       "<Figure size 640x480 with 1 Axes>"
      ]
     },
     "metadata": {},
     "output_type": "display_data"
    }
   ],
   "source": [
    "num_epochs = 5000\n",
    "learning_rate = 0.01\n",
    "\n",
    "# Use jnp.array to ensure compatibility with JAX\n",
    "#small_dataset = jnp.array(data_np[:50000])\n",
    "\n",
    "def loss_fn(params_encoder, params_decoder, batch):\n",
    "    encoded = encoder(batch, params_encoder)\n",
    "    decoded = decoder(encoded, params_decoder)\n",
    "    return jnp.mean((batch - decoded) ** 2)\n",
    "\n",
    "history_loss = []\n",
    "\n",
    "for epoch in range(num_epochs):\n",
    "    # Compute gradients for the entire batch\n",
    "    grad_encoder, grad_decoder = jax.grad(loss_fn, argnums=(0, 1))(params_encoder, params_decoder, fraud_data)\n",
    "    \n",
    "    # Update weights\n",
    "    params_encoder = [p - learning_rate * g for p, g in zip(params_encoder, grad_encoder)]\n",
    "    params_decoder = [p - learning_rate * g for p, g in zip(params_decoder, grad_decoder)]\n",
    "    \n",
    "    current_loss = loss_fn(params_encoder, params_decoder, fraud_data)\n",
    "    history_loss.append(current_loss)\n",
    "    if epoch % 500 == 0:\n",
    "        current_loss = loss_fn(params_encoder, params_decoder, fraud_data)\n",
    "        print(f\"Epoch {epoch}, Loss: {current_loss}\")\n",
    "\n",
    "    # plot the history loss\n",
    "plt.plot(history_loss)\n",
    "plt.xlabel('Epoch')\n",
    "plt.ylabel('Loss')\n"
   ]
  }
 ],
 "metadata": {
  "kernelspec": {
   "display_name": "Python 3",
   "language": "python",
   "name": "python3"
  },
  "language_info": {
   "codemirror_mode": {
    "name": "ipython",
    "version": 3
   },
   "file_extension": ".py",
   "mimetype": "text/x-python",
   "name": "python",
   "nbconvert_exporter": "python",
   "pygments_lexer": "ipython3",
   "version": "3.13.1"
  }
 },
 "nbformat": 4,
 "nbformat_minor": 5
}
