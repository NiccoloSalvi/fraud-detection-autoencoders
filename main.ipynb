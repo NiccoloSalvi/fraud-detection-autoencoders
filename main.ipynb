{
 "cells": [
  {
   "cell_type": "code",
   "id": "initial_id",
   "metadata": {
    "collapsed": true,
    "ExecuteTime": {
     "end_time": "2025-02-18T15:33:28.420124Z",
     "start_time": "2025-02-18T15:33:22.026182Z"
    }
   },
   "source": [
    "import numpy as np\n",
    "import pandas as pd\n",
    "from sklearn.preprocessing import RobustScaler\n",
    "import jax.numpy as jnp\n",
    "import jax\n",
    "import jax.scipy.optimize\n",
    "import matplotlib.pyplot as plt\n",
    "data = pd.read_csv('creditcard.csv')"
   ],
   "outputs": [],
   "execution_count": 2
  },
  {
   "metadata": {
    "ExecuteTime": {
     "end_time": "2025-02-18T15:33:29.173284Z",
     "start_time": "2025-02-18T15:33:29.166796Z"
    }
   },
   "cell_type": "code",
   "source": "print(data.head())",
   "id": "7442d6d164f9e5ba",
   "outputs": [
    {
     "name": "stdout",
     "output_type": "stream",
     "text": [
      "   Time        V1        V2        V3        V4        V5        V6        V7  \\\n",
      "0   0.0 -1.359807 -0.072781  2.536347  1.378155 -0.338321  0.462388  0.239599   \n",
      "1   0.0  1.191857  0.266151  0.166480  0.448154  0.060018 -0.082361 -0.078803   \n",
      "2   1.0 -1.358354 -1.340163  1.773209  0.379780 -0.503198  1.800499  0.791461   \n",
      "3   1.0 -0.966272 -0.185226  1.792993 -0.863291 -0.010309  1.247203  0.237609   \n",
      "4   2.0 -1.158233  0.877737  1.548718  0.403034 -0.407193  0.095921  0.592941   \n",
      "\n",
      "         V8        V9  ...       V21       V22       V23       V24       V25  \\\n",
      "0  0.098698  0.363787  ... -0.018307  0.277838 -0.110474  0.066928  0.128539   \n",
      "1  0.085102 -0.255425  ... -0.225775 -0.638672  0.101288 -0.339846  0.167170   \n",
      "2  0.247676 -1.514654  ...  0.247998  0.771679  0.909412 -0.689281 -0.327642   \n",
      "3  0.377436 -1.387024  ... -0.108300  0.005274 -0.190321 -1.175575  0.647376   \n",
      "4 -0.270533  0.817739  ... -0.009431  0.798278 -0.137458  0.141267 -0.206010   \n",
      "\n",
      "        V26       V27       V28  Amount  Class  \n",
      "0 -0.189115  0.133558 -0.021053  149.62      0  \n",
      "1  0.125895 -0.008983  0.014724    2.69      0  \n",
      "2 -0.139097 -0.055353 -0.059752  378.66      0  \n",
      "3 -0.221929  0.062723  0.061458  123.50      0  \n",
      "4  0.502292  0.219422  0.215153   69.99      0  \n",
      "\n",
      "[5 rows x 31 columns]\n"
     ]
    }
   ],
   "execution_count": 3
  },
  {
   "metadata": {
    "ExecuteTime": {
     "end_time": "2025-02-18T15:33:31.966909Z",
     "start_time": "2025-02-18T15:33:31.891437Z"
    }
   },
   "cell_type": "code",
   "source": [
    "data_np = data.to_numpy()\n",
    "scaler = RobustScaler(with_centering=True, with_scaling=True, quantile_range=(25.0, 75.0), unit_variance=False)\n",
    "data_np[:, [0, 29]] = scaler.fit_transform(data_np[:, [0, 29]])\n"
   ],
   "id": "842bde08d7f1f203",
   "outputs": [],
   "execution_count": 4
  },
  {
   "metadata": {
    "ExecuteTime": {
     "end_time": "2025-02-18T15:33:34.074517Z",
     "start_time": "2025-02-18T15:33:34.019697Z"
    }
   },
   "cell_type": "code",
   "source": [
    "\n",
    "fraud_data = data_np[data_np[:, -1] == 1]\n",
    "print(fraud_data.shape)"
   ],
   "id": "924f1e76f86ccb8b",
   "outputs": [
    {
     "name": "stdout",
     "output_type": "stream",
     "text": [
      "(492, 31)\n"
     ]
    }
   ],
   "execution_count": 5
  },
  {
   "metadata": {
    "ExecuteTime": {
     "end_time": "2025-02-18T15:33:35.167656Z",
     "start_time": "2025-02-18T15:33:35.113194Z"
    }
   },
   "cell_type": "code",
   "source": [
    "legit_data = data_np[data_np[:, -1] == 0]\n",
    "legit_data = legit_data[np.random.choice(legit_data.shape[0], 492, replace=False)]\n",
    "print(legit_data.shape)"
   ],
   "id": "f292160c1397fb06",
   "outputs": [
    {
     "name": "stdout",
     "output_type": "stream",
     "text": [
      "(492, 31)\n"
     ]
    }
   ],
   "execution_count": 6
  },
  {
   "metadata": {
    "ExecuteTime": {
     "end_time": "2025-02-18T15:33:36.432611Z",
     "start_time": "2025-02-18T15:33:36.416210Z"
    }
   },
   "cell_type": "code",
   "source": [
    "train_dataset = np.vstack((legit_data, fraud_data))\n",
    "np.random.shuffle(train_dataset)\n",
    "print(legit_data.shape[0]*2)\n",
    "print(train_dataset.shape)"
   ],
   "id": "5062731fbc5d7cdf",
   "outputs": [
    {
     "name": "stdout",
     "output_type": "stream",
     "text": [
      "984\n",
      "(984, 31)\n"
     ]
    }
   ],
   "execution_count": 7
  },
  {
   "metadata": {
    "ExecuteTime": {
     "end_time": "2025-02-18T15:33:37.658862Z",
     "start_time": "2025-02-18T15:33:37.654218Z"
    }
   },
   "cell_type": "code",
   "source": [
    "train_labels = train_dataset[:, -1]\n",
    "train_dataset = train_dataset[:, :-1]\n",
    "print(train_labels.shape)\n",
    "print(train_dataset.shape)"
   ],
   "id": "b79538a8df785196",
   "outputs": [
    {
     "name": "stdout",
     "output_type": "stream",
     "text": [
      "(984,)\n",
      "(984, 30)\n"
     ]
    }
   ],
   "execution_count": 8
  },
  {
   "metadata": {
    "ExecuteTime": {
     "end_time": "2025-02-18T15:33:38.795240Z",
     "start_time": "2025-02-18T15:33:38.777006Z"
    }
   },
   "cell_type": "code",
   "source": [
    "class SVM:\n",
    "    def __init__(self, lmbda=1.0):\n",
    "        self.lmbda = lmbda\n",
    "        self.w = None\n",
    "\n",
    "    def loss(self, params, X, y):\n",
    "        # Compute the decision function Y = Xw + b\n",
    "        decision = jnp.dot(X, params[:-1]) + params[-1]\n",
    "        # Compute the hinge loss\n",
    "        loss_val = jnp.maximum(0, 1 - y * decision)\n",
    "        # Regularization term (L2 norm of w)\n",
    "        reg_term = self.lmbda * jnp.sum(params ** 2)\n",
    "        # Total loss\n",
    "        return reg_term + jnp.mean(loss_val)\n",
    "\n",
    "    def train(self, X, y):\n",
    "        _, n_features = X.shape\n",
    "\n",
    "        # Initialize weights and bias\n",
    "        self.w = jnp.zeros(n_features + 1)\n",
    "\n",
    "        # Solve optimization problem\n",
    "        opt_res = jax.scipy.optimize.minimize(self.loss, self.w, method=\"BFGS\", args=(X, y))\n",
    "        self.w = opt_res.x\n",
    "\n",
    "    def predict(self, X):\n",
    "        # Decision function\n",
    "        decision = jnp.dot(X, self.w[:-1]) + self.w[-1]\n",
    "        return jnp.sign(decision)"
   ],
   "id": "b5e4e4e0f2607c46",
   "outputs": [],
   "execution_count": 9
  },
  {
   "metadata": {
    "ExecuteTime": {
     "end_time": "2025-02-18T15:33:40.768065Z",
     "start_time": "2025-02-18T15:33:40.462047Z"
    }
   },
   "cell_type": "code",
   "source": [
    "from sklearn.model_selection import train_test_split\n",
    "\n",
    "data_train, data_test, labels_train, labels_test = train_test_split(train_dataset, train_labels, test_size=0.2, random_state=42)\n",
    "\n",
    "# Convert data to JAX arrays\n",
    "data_train = jnp.array(data_train)\n",
    "labels_train = jnp.array(labels_train)\n",
    "data_test = jnp.array(data_test)\n",
    "labels_test = jnp.array(labels_test)\n",
    "\n",
    "print(data_train.shape)\n",
    "print(labels_train.shape)\n",
    "print(data_test.shape)\n",
    "print(labels_test.shape)"
   ],
   "id": "c89ab7b94de2fad",
   "outputs": [
    {
     "name": "stdout",
     "output_type": "stream",
     "text": [
      "(787, 30)\n",
      "(787,)\n",
      "(197, 30)\n",
      "(197,)\n"
     ]
    }
   ],
   "execution_count": 10
  },
  {
   "metadata": {
    "ExecuteTime": {
     "end_time": "2025-02-18T15:33:43.840600Z",
     "start_time": "2025-02-18T15:33:42.148764Z"
    }
   },
   "cell_type": "code",
   "source": [
    "svm = SVM(lmbda=0.0001)\n",
    "svm.train(data_train, labels_train)"
   ],
   "id": "fd717377a03e532a",
   "outputs": [],
   "execution_count": 11
  },
  {
   "metadata": {
    "ExecuteTime": {
     "end_time": "2025-02-18T15:33:44.848510Z",
     "start_time": "2025-02-18T15:33:44.572834Z"
    }
   },
   "cell_type": "code",
   "source": [
    "labels_pred_train = svm.predict(data_train)\n",
    "labels_pred_test = svm.predict(data_test)"
   ],
   "id": "dc78623461659dbb",
   "outputs": [],
   "execution_count": 12
  },
  {
   "metadata": {
    "ExecuteTime": {
     "end_time": "2025-02-18T15:33:47.449274Z",
     "start_time": "2025-02-18T15:33:47.185706Z"
    }
   },
   "cell_type": "code",
   "source": [
    "accuracy_train = jnp.mean(labels_pred_train == labels_train)\n",
    "accuracy_test = jnp.mean(labels_pred_test == labels_test)\n",
    "print(f\"Train Accuracy: {accuracy_train:.4f}\")\n",
    "print(f\"Test Accuracy: {accuracy_test:.4f}\")"
   ],
   "id": "934cdb77594c5563",
   "outputs": [
    {
     "name": "stdout",
     "output_type": "stream",
     "text": [
      "Train Accuracy: 0.4956\n",
      "Test Accuracy: 0.5178\n"
     ]
    }
   ],
   "execution_count": 13
  },
  {
   "metadata": {
    "ExecuteTime": {
     "end_time": "2025-02-18T15:52:10.051711Z",
     "start_time": "2025-02-18T15:52:09.965271Z"
    }
   },
   "cell_type": "code",
   "source": [
    "\n",
    "from sklearn.svm import SVC\n",
    "\n",
    "model = SVC(kernel='linear', C=1.0)\n",
    "model.fit(data_train, labels_train)\n",
    "\n",
    "labels_pred_test = model.predict(data_test)\n",
    "labels_pred_train = model.predict(data_train)\n",
    "accuracy_train = jnp.mean(labels_pred_train == labels_train)\n",
    "accuracy_test = jnp.mean(labels_pred_test == labels_test)\n",
    "print(f\"Train Accuracy: {accuracy_train:.4f}\")\n",
    "print(f\"Test Accuracy: {accuracy_test:.4f}\")"
   ],
   "id": "acfc0229954339ba",
   "outputs": [
    {
     "name": "stdout",
     "output_type": "stream",
     "text": [
      "Train Accuracy: 0.9543\n",
      "Test Accuracy: 0.9340\n",
      "Accuracy: 0.93\n"
     ]
    }
   ],
   "execution_count": 17
  }
 ],
 "metadata": {
  "kernelspec": {
   "display_name": "Python 3",
   "language": "python",
   "name": "python3"
  },
  "language_info": {
   "codemirror_mode": {
    "name": "ipython",
    "version": 2
   },
   "file_extension": ".py",
   "mimetype": "text/x-python",
   "name": "python",
   "nbconvert_exporter": "python",
   "pygments_lexer": "ipython2",
   "version": "2.7.6"
  }
 },
 "nbformat": 4,
 "nbformat_minor": 5
}
